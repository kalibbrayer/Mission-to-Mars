{
 "cells": [
  {
   "cell_type": "code",
   "execution_count": 1,
   "metadata": {
    "collapsed": true
   },
   "outputs": [],
   "source": [
    "from splinter import Browser\n",
    "from bs4 import BeautifulSoup\n",
    "import pymongo"
   ]
  },
  {
   "cell_type": "code",
   "execution_count": 2,
   "metadata": {
    "scrolled": true
   },
   "outputs": [],
   "source": [
    "executable_path = {'executable_path': 'chromedriver'}\n",
    "browser = Browser('chrome', **executable_path, headless=False)"
   ]
  },
  {
   "cell_type": "code",
   "execution_count": 79,
   "metadata": {
    "collapsed": true
   },
   "outputs": [],
   "source": [
    " def scrape():\n",
    "    scrapeData = {}\n",
    "    \n",
    "    url = \"https://mars.nasa.gov/news/?page=0&per_page=15&order=publish_date+desc%2Ccreated_at+desc&search=&category=19%2C165%2C184%2C204&blank_scope=Latest\"\n",
    "\n",
    "    browser.visit(url)\n",
    "\n",
    "    html = browser.html\n",
    "    \n",
    "    soup = BeautifulSoup(html, 'html.parser')\n",
    "\n",
    "    content = soup.find('div', class_='article_teaser_body').get_text()\n",
    "\n",
    "    title = soup.find('div', class_='content_title').get_text()\n",
    "\n",
    "    scrapeData[\"latest_news_title\"] = title\n",
    "    \n",
    "    scrapeData[\"latest_news_content\"] = content\n",
    "\n",
    "    url = \"https://www.jpl.nasa.gov/spaceimages/?search=&category=Mars\"\n",
    "\n",
    "    browser.visit(url)\n",
    "\n",
    "    html = browser.html\n",
    "    \n",
    "    soup = BeautifulSoup(html, 'html.parser')\n",
    "\n",
    "    feature_image = \"https://www.jpl.nasa.gov\" + soup.find('a', class_='button fancybox')['data-fancybox-href']\n",
    "    \n",
    "    scrapeData[\"feature_image\"] = feature_image\n",
    "    \n",
    "    url = \"https://twitter.com/marswxreport?lang=en\"\n",
    "\n",
    "    browser.visit(url)\n",
    "\n",
    "    html = browser.html\n",
    "    \n",
    "    soup = BeautifulSoup(html, 'html.parser')\n",
    "\n",
    "    mars_weather = soup.find(class_='js-tweet-text-container').find(class_=\"TweetTextSize TweetTextSize--normal js-tweet-text tweet-text\").get_text()\n",
    "    \n",
    "    scrapeData[\"mars_weather\"] = mars_weather\n",
    "    \n",
    "    url = \"https://space-facts.com/mars/\"\n",
    "\n",
    "    browser.visit(url)\n",
    "\n",
    "    html = browser.html\n",
    "\n",
    "    soup = BeautifulSoup(html, 'html.parser')\n",
    "\n",
    "    table = soup.find(id=\"tablepress-mars\")\n",
    "\n",
    "    import pandas as pd \n",
    "\n",
    "    df = pd.read_html(str(table))\n",
    "\n",
    "    df = df[0]\n",
    "\n",
    "    mars_facts = pd.Series(df[1].values, index = df[0]).to_dict() \n",
    "    \n",
    "    scrapeData[\"mars_facts\"] = mars_facts\n",
    "    \n",
    "    url = \"https://astrogeology.usgs.gov/search/results?q=hemisphere+enhanced&k1=target&v1=Mars\"\n",
    "\n",
    "    browser.visit(url)\n",
    "\n",
    "    html = browser.html\n",
    "    \n",
    "    soup = BeautifulSoup(html, 'html.parser')\n",
    "\n",
    "    mars_links = []\n",
    "\n",
    "    img_links = soup.select(\"div.description\")\n",
    "\n",
    "    for i in img_links:\n",
    "        url = \"https://astrogeology.usgs.gov\" + i.find(\"a\",class_=\"itemLink\")[\"href\"]\n",
    "        mars_links.append(url)\n",
    "\n",
    "    mars_images = {}\n",
    "\n",
    "    for link in mars_links:\n",
    "        browser.visit(link)\n",
    "        html = browser.html\n",
    "        soup = BeautifulSoup(html, 'html.parser')\n",
    "        img_url = \"https://astrogeology.usgs.gov\" + soup.find(class_=\"wide-image\")[\"src\"]\n",
    "        hemisphere_title = browser.title.split(\"|\")[0][:-1]\n",
    "        mars_images[hemisphere_title] = img_url \n",
    "        \n",
    "    scrapeData[\"mars_images\"] = mars_images\n",
    "    \n",
    "    return scrapeData\n",
    "    "
   ]
  },
  {
   "cell_type": "code",
   "execution_count": 80,
   "metadata": {},
   "outputs": [
    {
     "data": {
      "text/plain": [
       "{'feature_image': 'https://www.jpl.nasa.gov/spaceimages/images/mediumsize/PIA18289_ip.jpg',\n",
       " 'latest_news_content': \"A recent view from Mars orbit of the site where NASA's Phoenix Mars mission landed on far-northern Mars nearly a decade ago captures changes.\",\n",
       " 'latest_news_title': 'Nearly a Decade After Mars Phoenix Landed, Another Look',\n",
       " 'mars_facts': {'Equatorial Diameter:': '6,792 km',\n",
       "  'First Record:': '2nd millennium BC',\n",
       "  'Mass:': '6.42 x 10^23 kg (10.7% Earth)',\n",
       "  'Moons:': '2 (Phobos & Deimos)',\n",
       "  'Orbit Distance:': '227,943,824 km (1.52 AU)',\n",
       "  'Orbit Period:': '687 days (1.9 years)',\n",
       "  'Polar Diameter:': '6,752 km',\n",
       "  'Recorded By:': 'Egyptian astronomers',\n",
       "  'Surface Temperature:': '-153 to 20 °C'},\n",
       " 'mars_images': {'Cerberus Hemisphere Enhanced': 'https://astrogeology.usgs.gov/cache/images/cfa62af2557222a02478f1fcd781d445_cerberus_enhanced.tif_full.jpg',\n",
       "  'Schiaparelli Hemisphere Enhanced': 'https://astrogeology.usgs.gov/cache/images/3cdd1cbf5e0813bba925c9030d13b62e_schiaparelli_enhanced.tif_full.jpg',\n",
       "  'Syrtis Major Hemisphere Enhanced': 'https://astrogeology.usgs.gov/cache/images/ae209b4e408bb6c3e67b6af38168cf28_syrtis_major_enhanced.tif_full.jpg',\n",
       "  'Valles Marineris Hemisphere Enhanced': 'https://astrogeology.usgs.gov/cache/images/7cf2da4bf549ed01c17f206327be4db7_valles_marineris_enhanced.tif_full.jpg'},\n",
       " 'mars_weather': 'Sol 1970 (Feb 20, 2018), Sunny, high -16C/3F, low -77C/-106F, pressure at 7.32 hPa, daylight 05:38-17:26'}"
      ]
     },
     "execution_count": 80,
     "metadata": {},
     "output_type": "execute_result"
    }
   ],
   "source": [
    "scrape()"
   ]
  }
 ],
 "metadata": {
  "kernelspec": {
   "display_name": "Python 3",
   "language": "python",
   "name": "python3"
  },
  "language_info": {
   "codemirror_mode": {
    "name": "ipython",
    "version": 3
   },
   "file_extension": ".py",
   "mimetype": "text/x-python",
   "name": "python",
   "nbconvert_exporter": "python",
   "pygments_lexer": "ipython3",
   "version": "3.6.1"
  }
 },
 "nbformat": 4,
 "nbformat_minor": 2
}
